{
 "cells": [
  {
   "cell_type": "code",
   "execution_count": 1,
   "metadata": {},
   "outputs": [],
   "source": [
    "import os\n",
    "import sys\n",
    "sys.path.append('/home/mark/Documents/code/drone')\n",
    "import pickle\n",
    "import numpy as np\n",
    "import scipy.optimize as opt\n",
    "from solver import *\n",
    "import networkx as nx\n",
    "import gurobipy as gp\n",
    "from gurobipy import GRB\n",
    "\n",
    "\n",
    "main_seed = np.random.RandomState(10)\n",
    "out_path = '/home/mark/Documents/code/drone/figures/temp/'\n",
    "\n",
    "\n",
    "\n",
    "# num_iters = 100\n",
    "# epsilon = 1e-10\n",
    "\n",
    "# n = main_seed.randint(4,7)\n",
    "# G = gnp_random_connected_digraph(n, 0.5, main_seed)\n",
    "# m = G.number_of_edges()\n",
    "# paths = create_paths(G)\n",
    "# p = len(paths)\n",
    "# Gamma = 0.99\n"
   ]
  },
  {
   "cell_type": "code",
   "execution_count": 2,
   "metadata": {},
   "outputs": [],
   "source": [
    "net_params = {}\n",
    "net_params['A'] = np.array([[0,1,1,0],\n",
    "                            [0,0,0,1],\n",
    "                            [0,0,0,1],\n",
    "                            [1,0,0,0]])\n",
    "\n",
    "net_params['flow_c'] = np.array([[0,2000,2000,0],\n",
    "                                 [0,0,0,3000],\n",
    "                                 [0,0,0,3000],\n",
    "                                 [4000,0,0,0]])\n",
    "\n",
    "net_params['capacity'] = np.array([[0,1000,2000,0],\n",
    "                                   [0,0,0,3000],\n",
    "                                   [0,0,0,2000],\n",
    "                                   [4000,0,0,0]])\n",
    "\n",
    "net_params['lanes'] = np.array([[0,2,2,0],\n",
    "                                [0,0,0,3],\n",
    "                                [0,0,0,2],\n",
    "                                [4,0,0,0]]) \n",
    "\n",
    "net_params['l_road'] = np.array([[0,2,2,0],\n",
    "                                 [0,0,0,2],\n",
    "                                 [0,0,0,2],\n",
    "                                 [4,0,0,0]]) \n",
    "\n",
    "net_params['l_drone'] = np.array([1.2,1.2,4.8])\n",
    "\n",
    "G = nx.DiGraph(net_params['A'])\n",
    "pos = nx.planar_layout(G)\n",
    "pos[0] = np.array([0,0])\n",
    "pos[3] = np.array([5,0])\n",
    "pos[1] = np.array([3,2])\n",
    "pos[2] = np.array([3,-2])\n",
    "\n",
    "net_params['pos'] = pos"
   ]
  },
  {
   "cell_type": "code",
   "execution_count": 3,
   "metadata": {},
   "outputs": [],
   "source": [
    "optim_params = {}\n",
    "# set random variables for now\n",
    "omega = {2:np.array([15.75812964, 0.02109056]), \n",
    "         3:np.array([4.26392855, 0.06173418]),\n",
    "         4:np.array([1.91730372, 0.05962975])}\n",
    "\n",
    "optim_params['omega'] = omega        \n",
    "optim_params['D_v'] = np.array([10000,10000,10000])\n",
    "optim_params['p_per_truck'] = 125\n",
    "optim_params['C_0'] = 14000\n",
    "# optim_params['C_max'] = 12000\n",
    "optim_params['c_t'] = 30\n",
    "optim_params['c_d'] = 0.5\n",
    "optim_params['Beta'] = 14000\n",
    "optim_params['Gamma'] = 1\n",
    "optim_params['cutoff'] = 1\n",
    "optim_params['MIP_gap'] = 0.00001"
   ]
  },
  {
   "cell_type": "code",
   "execution_count": 4,
   "metadata": {},
   "outputs": [],
   "source": [
    "fig_params = {}\n",
    "\n",
    "fig_params['ORANGE'] = '#FF9132'\n",
    "fig_params['TEAL'] = '#0598B0'\n",
    "fig_params['GREEN'] = '#008F00'\n",
    "fig_params['PURPLE'] = '#8A2BE2'\n",
    "fig_params['GRAY'] = '#969696'\n",
    "\n",
    "fig_params['N_COLOR'] = [fig_params['GREEN']]+[fig_params['ORANGE']]*len(net_params['l_drone']) \n",
    "fig_params['N_SIZE'] = 100\n",
    "fig_params['N_FSIZE'] = 8\n",
    "fig_params['E_FSIZE'] = 6\n",
    "fig_params['E_WIDTH'] = 2\n",
    "fig_params['E_ALPHA'] = 0.9\n",
    "fig_params['E_COLOR'] = fig_params['GRAY']\n",
    "fig_params['ARROW_SIZE'] = 10\n",
    "fig_params['FIG_W'] = 4\n",
    "fig_params['FIG_H'] = 4\n",
    "fig_params['arc_rad'] = 0.1\n",
    "\n",
    "fig_params['rc_params'] = {\n",
    "        \"text.usetex\": True,\n",
    "        \"font.family\": \"serif\",\n",
    "        \"font.serif\": [\"Palatino\"],\n",
    "        \"font.size\": 8,\n",
    "        \"axes.titlesize\": 10,\n",
    "        \"axes.spines.right\": False,\n",
    "        \"axes.spines.top\": False,\n",
    "        \"lines.linewidth\": 2}\n",
    "\n",
    "fig_params['axs_params'] = {\n",
    "        'widths': [0.9,0.0125,0.05,0.0125],\n",
    "        'heights': [0.5,0.5],\n",
    "        'l':-0.03,\n",
    "        'r':0.88,\n",
    "        't':0.95,\n",
    "        'b':0.04,\n",
    "        'wspace':0,\n",
    "        'hspace':0.1}"
   ]
  },
  {
   "cell_type": "code",
   "execution_count": 5,
   "metadata": {},
   "outputs": [],
   "source": [
    "CONVEX = False\n",
    "INTEGER = False"
   ]
  },
  {
   "cell_type": "code",
   "execution_count": 6,
   "metadata": {},
   "outputs": [
    {
     "name": "stdout",
     "output_type": "stream",
     "text": [
      "Set parameter Username\n",
      "Academic license - for non-commercial use only - expires 2022-07-26\n",
      "Set parameter NonConvex to value 2\n",
      "Set parameter MIPGap to value 1e-05\n"
     ]
    },
    {
     "data": {
      "image/png": "[encoded data removed]",
      "text/plain": [
       "<Figure size 288x288 with 4 Axes>"
      ]
     },
     "metadata": {
      "needs_background": "light"
     },
     "output_type": "display_data"
    }
   ],
   "source": [
    "# print(net_params)\n",
    "my_solver = net_solver(net_params,optim_params,fig_params,CONVEX,INTEGER)\n",
    "my_solver.visualize('Problem Setup', False, '/home/mark/Documents/code/drone/optim/results/toy_nosol.pdf')\n"
   ]
  },
  {
   "cell_type": "code",
   "execution_count": 7,
   "metadata": {},
   "outputs": [
    {
     "name": "stdout",
     "output_type": "stream",
     "text": [
      "Gurobi Optimizer version 9.5.1 build v9.5.1rc2 (linux64)\n",
      "Thread count: 8 physical cores, 16 logical processors, using up to 16 threads\n",
      "Optimize a model with 4 rows, 3 columns and 6 nonzeros\n",
      "Model fingerprint: 0x6f0a8324\n",
      "Model has 4 quadratic objective terms\n",
      "Coefficient statistics:\n",
      "  Matrix range     [1e+00, 1e+02]\n",
      "  Objective range  [3e-03, 3e-03]\n",
      "  QObjective range [1e-05, 1e-04]\n",
      "  Bounds range     [0e+00, 0e+00]\n",
      "  RHS range        [3e+01, 1e+04]\n",
      "Presolve removed 3 rows and 0 columns\n",
      "\n",
      "Continuous model is non-convex -- solving as a MIP\n",
      "\n",
      "Presolve removed 3 rows and 0 columns\n",
      "Presolve time: 0.00s\n",
      "Presolved: 4 rows, 8 columns, 12 nonzeros\n",
      "Presolved model has 3 quadratic constraint(s)\n",
      "Presolved model has 1 bilinear constraint(s)\n",
      "Variable types: 8 continuous, 0 integer (0 binary)\n",
      "\n",
      "Root relaxation: objective -2.666667e-01, 0 iterations, 0.00 seconds (0.00 work units)\n",
      "\n",
      "    Nodes    |    Current Node    |     Objective Bounds      |     Work\n",
      " Expl Unexpl |  Obj  Depth IntInf | Incumbent    BestBd   Gap | It/Node Time\n",
      "\n",
      "*    0     0               0      -0.2265428   -0.22654  0.00%     -    0s\n",
      "\n",
      "Explored 1 nodes (5 simplex iterations) in 0.01 seconds (0.00 work units)\n",
      "Thread count was 16 (of 16 available processors)\n",
      "\n",
      "Solution count 1: -0.226543 \n",
      "\n",
      "Optimal solution found (tolerance 1.00e-05)\n",
      "Best objective -2.265427531556e-01, best bound -2.265427531556e-01, gap 0.0000%\n"
     ]
    }
   ],
   "source": [
    "my_solver.optimize()"
   ]
  },
  {
   "cell_type": "code",
   "execution_count": 8,
   "metadata": {},
   "outputs": [
    {
     "name": "stdout",
     "output_type": "stream",
     "text": [
      "X :\t [0.0, 0.0, 80.0]\n",
      "flow_t :\t [80.  0. 80.  0.  0.]\n",
      "flow_st :\t [ 0.  0. 40.  0. 40.]\n",
      "demand_t :\t [    0.     0. 10000.]\n",
      "flow_d :\t [10000. 10000.     0.]\n",
      "price :\t 12400.0\n",
      "avg_s_l :\t 2.7451351548\n",
      "avg_p_l :\t 2.2427341135111107\n"
     ]
    },
    {
     "data": {
      "image/png": "[encoded data removed]",
      "text/plain": [
       "<Figure size 288x288 with 4 Axes>"
      ]
     },
     "metadata": {
      "needs_background": "light"
     },
     "output_type": "display_data"
    }
   ],
   "source": [
    "for key in my_solver.solution.keys():\n",
    "    print(key,':\\t',my_solver.solution[key])\n",
    "\n",
    "my_solver.visualize('Problem Setup', True, '/home/mark/Documents/code/drone/optim/results/toy_sol_gamma1.pdf')"
   ]
  },
  {
   "cell_type": "code",
   "execution_count": 9,
   "metadata": {},
   "outputs": [
    {
     "name": "stdout",
     "output_type": "stream",
     "text": [
      "Set parameter NonConvex to value 2\n",
      "Set parameter MIPGap to value 1e-05\n",
      "Gurobi Optimizer version 9.5.1 build v9.5.1rc2 (linux64)\n",
      "Thread count: 8 physical cores, 16 logical processors, using up to 16 threads\n",
      "Optimize a model with 4 rows, 3 columns and 6 nonzeros\n",
      "Model fingerprint: 0xe3474093\n",
      "Coefficient statistics:\n",
      "  Matrix range     [1e+00, 1e+02]\n",
      "  Objective range  [6e-04, 3e-03]\n",
      "  Bounds range     [0e+00, 0e+00]\n",
      "  RHS range        [3e+01, 1e+04]\n",
      "Presolve removed 3 rows and 0 columns\n",
      "Presolve time: 0.00s\n",
      "Presolved: 1 rows, 3 columns, 3 nonzeros\n",
      "\n",
      "Iteration    Objective       Primal Inf.    Dual Inf.      Time\n",
      "       0    0.0000000e+00   3.846154e+00   0.000000e+00      0s\n",
      "       1    1.8255751e-02   0.000000e+00   0.000000e+00      0s\n",
      "\n",
      "Solved in 1 iterations and 0.00 seconds (0.00 work units)\n",
      "Optimal objective  1.825575075e-02\n"
     ]
    }
   ],
   "source": [
    "optim_params['Gamma'] = 0\n",
    "my_solver = net_solver(net_params,optim_params,fig_params,CONVEX,INTEGER)\n",
    "my_solver.optimize()\n"
   ]
  },
  {
   "cell_type": "code",
   "execution_count": 10,
   "metadata": {},
   "outputs": [
    {
     "name": "stdout",
     "output_type": "stream",
     "text": [
      "X :\t [0.0, 0.0, 30.76923076923077]\n",
      "flow_t :\t [30.76923077  0.         30.76923077  0.          0.        ]\n",
      "flow_st :\t [ 0.          0.         15.38461538  0.         15.38461538]\n",
      "demand_t :\t [   0.            0.         3846.15384615]\n",
      "flow_d :\t [10000.         10000.          6153.84615385]\n",
      "price :\t 14000.000000000002\n",
      "avg_s_l :\t 2.7159259536043954\n",
      "avg_p_l :\t 2.3300163363182116\n"
     ]
    },
    {
     "data": {
      "image/png": "[encoded data removed]",
      "text/plain": [
       "<Figure size 288x288 with 4 Axes>"
      ]
     },
     "metadata": {
      "needs_background": "light"
     },
     "output_type": "display_data"
    }
   ],
   "source": [
    "for key in my_solver.solution.keys():\n",
    "    print(key,':\\t',my_solver.solution[key])\n",
    "\n",
    "my_solver.visualize('Problem Setup', True, '/home/mark/Documents/code/drone/optim/results/toy_sol_gamma0.pdf')"
   ]
  },
  {
   "cell_type": "code",
   "execution_count": 11,
   "metadata": {},
   "outputs": [
    {
     "name": "stdout",
     "output_type": "stream",
     "text": [
      "[(0, 1), (0, 2), (1, 3), (2, 3), (3, 0)]\n",
      "0\n",
      "------------------------------------------------\n",
      "(1, 3)\n",
      "\n",
      "1\n",
      "------------------------------------------------\n",
      "(2, 3)\n",
      "\n",
      "2\n",
      "------------------------------------------------\n",
      "(3, 0)\n",
      "\n"
     ]
    }
   ],
   "source": [
    "# print(my_solver.paths)\n",
    "\n",
    "# for i_path in range(len(my_solver.paths)):\n",
    "#     # final edge in path\n",
    "#     end_edge = (my_solver.paths[i_path][-2],my_solver.paths[i_path][-1])\n",
    "#     print(end_edge)\n",
    "print(my_solver.G.out_edges())\n",
    "for node in range(my_solver.G.number_of_nodes()-1):\n",
    "    print(node)\n",
    "    print('------'*8)\n",
    "    for edge in my_solver.G.out_edges(node+1):\n",
    "        print(edge)\n",
    "        print()"
   ]
  },
  {
   "cell_type": "code",
   "execution_count": 12,
   "metadata": {},
   "outputs": [
    {
     "data": {
      "text/plain": [
       "6"
      ]
     },
     "execution_count": 12,
     "metadata": {},
     "output_type": "execute_result"
    }
   ],
   "source": [
    "k = 3\n",
    "k *= 3-1\n",
    "k"
   ]
  },
  {
   "cell_type": "markdown",
   "metadata": {},
   "source": []
  }
 ],
 "metadata": {
  "interpreter": {
   "hash": "22a8bf5ca61906ffdfb0ce063fe8abd475756db8a9d1138d639ac21be78fbb34"
  },
  "kernelspec": {
   "display_name": "Python 3.9.1 ('drone')",
   "language": "python",
   "name": "python3"
  },
  "language_info": {
   "codemirror_mode": {
    "name": "ipython",
    "version": 3
   },
   "file_extension": ".py",
   "mimetype": "text/x-python",
   "name": "python",
   "nbconvert_exporter": "python",
   "pygments_lexer": "ipython3",
   "version": "3.9.1"
  },
  "orig_nbformat": 4
 },
 "nbformat": 4,
 "nbformat_minor": 2
}
