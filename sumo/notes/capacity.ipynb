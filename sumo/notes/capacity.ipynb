{
 "cells": [
  {
   "cell_type": "code",
   "execution_count": 3,
   "metadata": {},
   "outputs": [],
   "source": [
    "# project imports\n",
    "import sys\n",
    "sys.path.append('/home/mark/Documents/code/drone/sumo/utils')\n",
    "from runSumo import runSumo\n",
    "from sumo_loop import sumo_loop\n",
    "\n",
    "# general imports\n",
    "import os\n",
    "import subprocess\n",
    "import numpy as np\n",
    "import scipy.linalg\n",
    "from mpl_toolkits.mplot3d import Axes3D\n",
    "import pickle\n",
    "import pandas as pd\n",
    "\n",
    "# plotting params\n",
    "from IPython.display import Math\n",
    "import matplotlib.pyplot as plt\n",
    "import matplotlib as mpl\n",
    "mpl.rcParams[\"axes.spines.right\"] = False\n",
    "mpl.rcParams[\"axes.spines.top\"] = False\n",
    "mpl.rcParams[\"lines.linewidth\"] = 2"
   ]
  },
  {
   "cell_type": "code",
   "execution_count": 2,
   "metadata": {},
   "outputs": [],
   "source": [
    "in_dir = '/home/mark/Documents/code/drone/sumo/results/capacities/2_all.p'\n",
    "r_vs_f = pickle.load(open(in_dir,'rb'))\n",
    "capacity = np.max(r_vs_f, axis=1)*3600\n",
    "ratios = np.logspace(np.log10(0.001),np.log10(0.5),100)\n",
    "flows = np.arange(10,5000,10) \n",
    "\n"
   ]
  },
  {
   "cell_type": "code",
   "execution_count": 3,
   "metadata": {},
   "outputs": [],
   "source": [
    "data = []\n",
    "\n",
    "for r_idx in range(len(capacity)):\n",
    "    for f_idx in range(len(flows)):\n",
    "        x = flows[f_idx]*ratios[r_idx]\n",
    "        y = flows[f_idx]\n",
    "        z = capacity[r_idx]\n",
    "        data.append([x,y,z])\n",
    "\n",
    "data = np.asarray(data)"
   ]
  },
  {
   "cell_type": "code",
   "execution_count": 4,
   "metadata": {},
   "outputs": [],
   "source": [
    "# regular grid covering the domain of the data\n",
    "X,Y = np.meshgrid(np.arange(10,2510,10), flows)\n",
    "XX = X.flatten()\n",
    "YY = Y.flatten()\n",
    "\n",
    "\n",
    "# best-fit linear plane\n",
    "A_lin = np.c_[data[:,0], data[:,1], np.ones(data.shape[0])]\n",
    "C_lin,_,_,_ = scipy.linalg.lstsq(A_lin, data[:,2])    # coefficients\n",
    "\n",
    "# evaluate it on grid\n",
    "Z_lin = C_lin[0]*X + C_lin[1]*Y + C_lin[2]\n",
    "\n",
    "# or expressed using matrix/vector product\n",
    "#Z = np.dot(np.c_[XX, YY, np.ones(XX.shape)], C).reshape(X.shape)\n",
    "\n",
    "\n",
    "# best-fit quadratic curve\n",
    "A_q = np.c_[np.ones(data.shape[0]), data[:,:2], np.prod(data[:,:2], axis=1), data[:,:2]**2]\n",
    "C_q,_,_,_ = scipy.linalg.lstsq(A_q, data[:,2])\n",
    "\n",
    "# evaluate it on a grid\n",
    "Z_q = np.dot(np.c_[np.ones(XX.shape), XX, YY, XX*YY, XX**2, YY**2], C_q).reshape(X.shape)"
   ]
  },
  {
   "cell_type": "code",
   "execution_count": 5,
   "metadata": {},
   "outputs": [],
   "source": [
    "%matplotlib qt\n",
    "# plot points and fitted surface\n",
    "fig = plt.figure(figsize=(12,4))\n",
    "ax2 = fig.add_subplot(1,2,1,projection='3d')\n",
    "ax3 = fig.add_subplot(1,2,2,projection='3d')\n",
    "\n",
    "\n",
    "ax2.set_xlim3d(0,2500)\n",
    "ax2.set_ylim3d(0,5000)\n",
    "ax2.set_zlim3d(1000,3000)\n",
    "ax3.set_xlim3d(0,2500)\n",
    "ax3.set_ylim3d(0,5000)\n",
    "ax3.set_zlim3d(0,2500)\n",
    "\n",
    "\n",
    "# ax2.view_init(elev=5., azim=-90)\n",
    "# ax3.view_init(elev=5., azim=-90)\n",
    "# first we create the mesh\n",
    "\n",
    "# next we do the linear fit\n",
    "\n",
    "ax2.set_title('Best Linear Fit')\n",
    "ax2.plot_surface(X, Y, Z_lin, rstride=1, cstride=1, alpha=0.2)\n",
    "ax2.scatter(data[:,0], data[:,1], data[:,2], c='r', s=0.1)\n",
    "\n",
    "# finally we do quadratic fit\n",
    "ax3.set_title('Best Quadratic Fit')\n",
    "ax3.plot_surface(X, Y, Z_q, rstride=1, cstride=1, alpha=0.2)\n",
    "ax3.scatter(data[:,0], data[:,1], data[:,2], c='r', s=0.1)\n",
    "\n",
    "# \n",
    "\n",
    "# plt.xlabel('X')\n",
    "# plt.ylabel('Y')\n",
    "# ax.set_zlabel('Z')\n",
    "# ax.axis('auto')\n",
    "# ax.axis('tight')\n",
    "plt.show()"
   ]
  },
  {
   "cell_type": "code",
   "execution_count": 6,
   "metadata": {},
   "outputs": [
    {
     "name": "stdout",
     "output_type": "stream",
     "text": [
      "[-1.23716255e+00  1.01475586e-01  3.56492000e+03]\n"
     ]
    }
   ],
   "source": [
    "print(C_lin)"
   ]
  },
  {
   "cell_type": "code",
   "execution_count": 7,
   "metadata": {},
   "outputs": [
    {
     "name": "stdout",
     "output_type": "stream",
     "text": [
      "[ 3.56492000e+03 -3.29909462e+00  2.70601110e-01  4.06261516e-04\n",
      "  3.75957445e-04 -4.12888233e-05]\n"
     ]
    }
   ],
   "source": [
    "print(C_q)"
   ]
  },
  {
   "cell_type": "code",
   "execution_count": null,
   "metadata": {},
   "outputs": [],
   "source": []
  }
 ],
 "metadata": {
  "kernelspec": {
   "display_name": "Python 3",
   "language": "python",
   "name": "python3"
  },
  "language_info": {
   "codemirror_mode": {
    "name": "ipython",
    "version": 3
   },
   "file_extension": ".py",
   "mimetype": "text/x-python",
   "name": "python",
   "nbconvert_exporter": "python",
   "pygments_lexer": "ipython3",
   "version": "3.9.1"
  },
  "orig_nbformat": 2
 },
 "nbformat": 4,
 "nbformat_minor": 2
}
