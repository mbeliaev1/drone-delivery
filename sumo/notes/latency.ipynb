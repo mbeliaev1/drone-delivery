{
 "metadata": {
  "language_info": {
   "codemirror_mode": {
    "name": "ipython",
    "version": 3
   },
   "file_extension": ".py",
   "mimetype": "text/x-python",
   "name": "python",
   "nbconvert_exporter": "python",
   "pygments_lexer": "ipython3",
   "version": "3.8.5-final"
  },
  "orig_nbformat": 2,
  "kernelspec": {
   "name": "python3",
   "display_name": "Python 3",
   "language": "python"
  }
 },
 "nbformat": 4,
 "nbformat_minor": 2,
 "cells": [
  {
   "cell_type": "code",
   "execution_count": 1,
   "metadata": {},
   "outputs": [],
   "source": [
    "# project imports\n",
    "import sys\n",
    "sys.path.append('/home/mark/Documents/code/drone/sumo/utils')\n",
    "from runSumo import runSumo\n",
    "from sumo_loop import sumo_loop\n",
    "\n",
    "# general imports\n",
    "import os\n",
    "import subprocess\n",
    "import numpy as np\n",
    "import scipy.linalg\n",
    "from mpl_toolkits.mplot3d import Axes3D\n",
    "import pickle\n",
    "import pandas as pd\n",
    "\n",
    "# plotting params\n",
    "from IPython.display import Math\n",
    "import matplotlib.pyplot as plt\n",
    "import matplotlib as mpl\n",
    "mpl.rcParams[\"axes.spines.right\"] = False\n",
    "mpl.rcParams[\"axes.spines.top\"] = False\n",
    "mpl.rcParams[\"lines.linewidth\"] = 2"
   ]
  },
  {
   "source": [
    "Load in the latency that we already have for two-lane roads\n"
   ],
   "cell_type": "markdown",
   "metadata": {}
  },
  {
   "cell_type": "code",
   "execution_count": 2,
   "metadata": {
    "tags": []
   },
   "outputs": [],
   "source": [
    "in_dir = '/home/mark/Documents/code/drone/sumo/results/latencies/3_car.p'\n",
    "Data = pickle.load(open(in_dir,'rb'))\n",
    "l = Data['l']/60\n",
    "\n",
    "ratios = np.logspace(np.log10(0.001),np.log10(0.5),100)\n",
    "flows = np.arange(10,5000,10) "
   ]
  },
  {
   "cell_type": "code",
   "execution_count": 3,
   "metadata": {},
   "outputs": [],
   "source": [
    "# We only want to use a subset of ratios\n",
    "stop_index = 74\n",
    "ratios = ratios[0:74]\n"
   ]
  },
  {
   "cell_type": "code",
   "execution_count": 4,
   "metadata": {},
   "outputs": [],
   "source": [
    "data = []\n",
    "\n",
    "for r_idx in range(len(ratios)):\n",
    "    for f_idx in range(l.shape[1]):\n",
    "        if l[r_idx,f_idx]<0.1:\n",
    "            pass\n",
    "        else:\n",
    "            x = flows[f_idx]*ratios[r_idx]\n",
    "            y = flows[f_idx]\n",
    "            z = l[r_idx,f_idx]\n",
    "            data.append([x,y,z])\n",
    "\n",
    "\n",
    "data = np.asarray(data)"
   ]
  },
  {
   "cell_type": "code",
   "execution_count": 5,
   "metadata": {},
   "outputs": [
    {
     "output_type": "stream",
     "name": "stdout",
     "text": [
      "(29526, 3)\n"
     ]
    }
   ],
   "source": [
    "print(data.shape)"
   ]
  },
  {
   "cell_type": "code",
   "execution_count": 6,
   "metadata": {},
   "outputs": [],
   "source": [
    "# regular grid covering the domain of the data\n",
    "X,Y = np.meshgrid(np.arange(10,1510,10), flows)\n",
    "XX = X.flatten()\n",
    "YY = Y.flatten()\n",
    "\n",
    "\n",
    "# best-fit linear plane\n",
    "A_lin = np.c_[data[:,0], data[:,1], np.ones(data.shape[0])]\n",
    "C_lin,_,_,_ = scipy.linalg.lstsq(A_lin, data[:,2])    # coefficients\n",
    "\n",
    "# evaluate it on grid\n",
    "Z_lin = np.dot(np.c_[XX, YY, np.ones(XX.shape)], C_lin).reshape(X.shape)\n",
    "\n",
    "\n",
    "\n"
   ]
  },
  {
   "cell_type": "code",
   "execution_count": 7,
   "metadata": {},
   "outputs": [
    {
     "output_type": "stream",
     "name": "stdout",
     "text": [
      "[2.76745188e-03 1.01666496e-04 2.44332199e+00]\n"
     ]
    }
   ],
   "source": [
    "print(C_lin)"
   ]
  },
  {
   "cell_type": "code",
   "execution_count": 8,
   "metadata": {},
   "outputs": [],
   "source": [
    "%matplotlib qt\n",
    "# plot points and fitted surface\n",
    "fig = plt.figure(figsize=(12,4))\n",
    "ax2 = fig.add_subplot(1,3,2,projection='3d')\n",
    "\n",
    "ax2.set_xlim3d(0,300)\n",
    "ax2.set_ylim3d(0,3000)\n",
    "ax2.set_zlim3d(0,250/60)\n",
    "\n",
    "# next we plot the linear fit\n",
    "ax2.set_title('Best Linear Fit')\n",
    "ax2.plot_surface(X, Y, Z_lin, rstride=1, cstride=1, alpha=0.2)\n",
    "ax2.scatter(data[:,0], data[:,1], data[:,2], c='r', s=0.1)\n",
    "\n",
    "plt.show()"
   ]
  }
 ]
}