{
 "cells": [
  {
   "cell_type": "code",
   "execution_count": 1,
   "metadata": {},
   "outputs": [],
   "source": [
    "# project imports\n",
    "import sys\n",
    "sys.path.append('/home/mark/Documents/code/drone/sumo/utils')\n",
    "from runSumo import runSumo\n",
    "from sumo_loop import sumo_loop\n",
    "\n",
    "# general imports\n",
    "import os\n",
    "import subprocess\n",
    "import numpy as np\n",
    "import scipy.linalg\n",
    "from mpl_toolkits.mplot3d import Axes3D\n",
    "import pickle\n",
    "import pandas as pd\n",
    "\n",
    "# plotting params\n",
    "from IPython.display import Math\n",
    "# MATPLOTLIB\n",
    "import matplotlib.pyplot as plt\n",
    "from matplotlib import rc\n",
    "import matplotlib as mpl\n",
    "from matplotlib.gridspec import GridSpec\n",
    "\n",
    "# colors used\n",
    "ORANGE_SCALE = ['#FFC999','#FFA04D','#FF7803']\n",
    "NEW_SCALE = ['#FF9132','#008F00','#8A2BE2']\n",
    "ORANGE = '#FF9132'\n",
    "TEAL = '#0598B0'\n",
    "GREEN = '#008F00'\n",
    "PURPLE = '#8A2BE2'\n",
    "GRAY = '#969696'\n",
    "FIG_WIDTH = 2.5\n",
    "FIG_HEIGHT = 2.5\n",
    "\n",
    "plt.rcParams.update({\n",
    "    \"text.usetex\": True,\n",
    "    \"font.family\": \"serif\",\n",
    "    \"font.serif\": [\"Palatino\"],\n",
    "    \"font.size\": 8,\n",
    "    \"axes.titlesize\": 10,\n",
    "    \"axes.spines.right\": False,\n",
    "    \"axes.spines.top\": False,\n",
    "    \"lines.linewidth\": 2\n",
    "})"
   ]
  },
  {
   "cell_type": "markdown",
   "metadata": {},
   "source": [
    "For the experiments I simulated two variants of roads:\n",
    "\n",
    "**(1) Two-Lane Road**\n",
    "- 30 mph speedlimit    \n",
    "- 500 meter road length\n",
    "- 25 stops\n",
    "- 1 hour long simulations\n",
    "\n",
    "**(2) Three-Lane Road**\n",
    "- 50 mph speedlimit    \n",
    "- 2000 meter road length\n",
    "- 100 stops\n",
    "- 1.5 hour long simulations\n",
    "\n",
    "**(2) Four-Lane Road**\n",
    "- 50 mph speedlimit    \n",
    "- 3000 meter road length\n",
    "- 150 stops\n",
    "- 1.5 hour long simulations\n",
    "\n",
    "For all three roads I vary the **ratio** (truck flow:total flow) from **0.001 to 0.5** logarithmically. \n",
    "\n",
    "For road **(1)** I vary the total **flow** from **10 to 3000 veh/hour** in increments of 10\n",
    "\n",
    "For road **(2)** I vary the total **flow** from **10 to 4500 veh/hour** in increments of 10\n",
    "\n",
    "For road **(3)** I vary the total **flow** from **10 to 6000 veh/hour** in increments of 10\n",
    "\n",
    "Flow is distributed so that the probability of a car **entering** the road from any lane is equivalant. Trucks on the other hand can choose the lane freely. This fixes some problems with SUMO forcing all cars to travel on the left lane, limiting their flow as each lane can only provide 1 car/sec. \n"
   ]
  },
  {
   "cell_type": "code",
   "execution_count": 2,
   "metadata": {},
   "outputs": [],
   "source": [
    "# Lets load in some of the simulations from the two lane road\n",
    "keys = ['2','3','4']\n",
    "\n",
    "sim_dir = {'2':'/media/mark/Ubuntu/results/new_drone/2_lane/',\n",
    "           '3':'/media/mark/Ubuntu/results/new_drone/3_lane/',\n",
    "           '4':'/media/mark/Ubuntu/results/new_drone/4_lane/'}\n",
    "\n",
    "SAVE_PATHS = {'2':'/home/mark/Documents/code/drone/sumo/results/2_lane/',\n",
    "              '3':'/home/mark/Documents/code/drone/sumo/results/3_lane/',\n",
    "              '4':'/home/mark/Documents/code/drone/sumo/results/4_lane/'}\n",
    "\n",
    "FINAL_SAVE = '/home/mark/Documents/latex/Drone_transC/figures/'\n",
    "\n",
    "# W = {'2': np.array([4.12525963e-03, 5.35954005e-05, 5.98697238e-01]),\n",
    "#      '3': np.array([2.94598421e-03, 1.03327147e-04, 2.44155661e+00]),\n",
    "#      '4': np.array([1.50397659e-03, 8.81281915e-05, 3.74193555e+00])}\n",
    "\n",
    "base_caps = {'2': 2670, '3': 4040, '4': 5300}\n",
    "\n",
    "base_caps_idx = {'2': 267-1, '3': 404-1, '4': 530-1}"
   ]
  },
  {
   "cell_type": "code",
   "execution_count": 3,
   "metadata": {},
   "outputs": [],
   "source": [
    "def smooth(y, box_pts):\n",
    "    box = np.ones(box_pts)/box_pts\n",
    "    y_temp = np.convolve(y, box, mode='valid')\n",
    "    added_len = len(y)-len(y_temp)\n",
    "    if added_len%2 == 0:\n",
    "        pads = [added_len//2,added_len//2]\n",
    "    else:\n",
    "        pads = [(added_len//2)+1,added_len//2]\n",
    "    y_smooth = np.concatenate((np.ones(pads[0])*y_temp[0],y_temp,y_temp[-1]*np.ones(pads[1])))\n",
    "    return y_smooth"
   ]
  },
  {
   "cell_type": "code",
   "execution_count": 4,
   "metadata": {},
   "outputs": [
    {
     "name": "stdout",
     "output_type": "stream",
     "text": [
      "[0.001      0.01023531 0.1       ]\n"
     ]
    }
   ],
   "source": [
    "ratios = np.logspace(np.log10(0.001),np.log10(0.1),100)\n",
    "r_idxs = [0,50,99]\n",
    "ratio = ratios[r_idxs]\n",
    "\n",
    "print(ratio)\n",
    "# we can create some plot tools\n",
    "# colors = ['y', ORANGE, 'r']\n",
    "# colors = ORANGE_SCALE\n",
    "color_key = {'2':ORANGE,'3':GREEN,'4':PURPLE}\n",
    "axs_key = {'2':0,'3':1,'4':2}\n",
    "ratio_title ={'2':'Two Lane Road','3':'Three Lane Road','4':'Four Lane Road'}\n",
    "r_labels = [\"$0.1\\%$\",\"$1\\%$\",\"$10\\%$\"]\n",
    "# flow_axs = {'2':[0,1000,2000,2636,3000],'3':[1500,2500,3500,3930,4500],'4':[3000,4000,5000,5264,6000]}\n",
    "# flow_axs_lim = {'2':[0,3000],'3':[1500,4500],'4':[3000,6000]}\n",
    "# y_axs = {'2':[0,1000,2000,base_caps['2'],3000],'3':[0,1500,3000,base_caps['3'],4500],'4':[0,2000,4000,base_caps['4'],6000]}\n",
    "y_axs_lim = {'2':[0,5],'3':[0,10],'4':[0,10]}\n",
    "annotation_y = {'2':-50,'3':-200,'4':-220}"
   ]
  },
  {
   "cell_type": "code",
   "execution_count": 5,
   "metadata": {},
   "outputs": [
    {
     "name": "stdout",
     "output_type": "stream",
     "text": [
      "{'2': 0.687756692400056, '3': 2.6141339196535847, '4': 3.8939236495946394}\n"
     ]
    }
   ],
   "source": [
    "end_index = 10\n",
    "ffl = {}\n",
    "\n",
    "for key in keys:\n",
    "    data = pickle.load(open(SAVE_PATHS[key]+'latency.p','rb'))\n",
    "    l = data['l']\n",
    "    ffl[key]=np.mean(l[0,0:end_index])\n",
    "\n",
    "print(ffl)"
   ]
  },
  {
   "cell_type": "markdown",
   "metadata": {},
   "source": [
    "For each ratio and flow pair, we look at the arrival times (arrival = left the road) of **all vehicles** throughout the simulation. \n",
    "\n",
    "Since the **flow-in** of traffic is **constant during the first hour** of simulation, I expect the road to be most resemblent of **steady state**  during the middle of this timeframe. Hence to calculate the flow on (out) the road, **I divide the total number of arrivals between the 15 minute mark and the 45 minute mark by 30 minutes.** \n",
    "\n",
    "To better visualize what is going on, below I show what happens when I window the arrival rates (# of arrivals at time t) by 30 minutes throughout the entire simulation. The point at **t=30 minutes** represents the **steady state flow out.**"
   ]
  },
  {
   "cell_type": "markdown",
   "metadata": {},
   "source": [
    "Before I plug in values into the BPR model, lets see what the latency of the cars actually looked like throughout the simulation. Using the same method, I average the latency of cars that have **arrived** between minute 15 and 45. "
   ]
  },
  {
   "cell_type": "code",
   "execution_count": 6,
   "metadata": {},
   "outputs": [],
   "source": [
    "# SMOOTHS = [5,10,40]\n",
    "# colors = [ORANGE, GREEN, PURPLE]\n",
    "\n",
    "# fig = plt.figure(figsize=(FIG_WIDTH,FIG_HEIGHT))\n",
    "# widths = [0.33,0.33,0.33]\n",
    "# heights = [1]\n",
    "# spec = fig.add_gridspec(ncols=len(widths), nrows=len(heights), width_ratios=widths,\n",
    "#                         height_ratios=heights,\n",
    "#                         left=0.1,\n",
    "#                         bottom=0.16,\n",
    "#                         right=0.98,\n",
    "#                         top=0.9)\n",
    "\n",
    "# spec.update(wspace=0.1, hspace=0.1)\n",
    "\n",
    "# for key in keys:\n",
    "#     # load data\n",
    "#     data = pickle.load(open(SAVE_PATHS[key]+'latency.p','rb'))\n",
    "#     flows = data['flows']\n",
    "#     l = data['l']\n",
    "    \n",
    "#     # set axs\n",
    "#     axs = fig.add_subplot(spec[axs_key[key]])\n",
    "#     axs.set_title(ratio_title[key])\n",
    "#     axs.set_xlabel('flow in ($\\\\%$ of max cap)')\n",
    "#     axs.set_xlim([0,100])\n",
    "#     axs.set_yticks([100,150,200,250,300])\n",
    "#     axs.set_ylim([90,300])\n",
    "\n",
    "#     if key == '2':\n",
    "#         axs.set_ylabel('latency ($\\\\%$ of $\\\\ell_0$)')\n",
    "#     else:\n",
    "#         axs.set_yticklabels([])\n",
    "#     for i in range(len(r_idxs)):\n",
    "#         x = 100*flows[0:base_caps_idx[key]]/base_caps[key]\n",
    "#         y = 100*(l[r_idxs[i],:]/ffl[key])[0:base_caps_idx[key]]\n",
    "#         y_smooth = smooth(y, SMOOTHS[i])\n",
    "\n",
    "#         axs.plot(x,y_smooth,color=color_key[key],label=r_labels[i])\n",
    "#         axs.plot(x,y,color=GRAY,alpha=0.3)\n",
    "\n",
    "#     if key == '2':\n",
    "#         axs.legend()\n",
    "# # ax_2l.set_ylabel(\"Latency $(minutes)$\",labelpad=0)\n",
    "# # ax_2l.set_xlabel(\"Flow $(\\\\frac{cars}{hour})$\",labelpad=0)\n",
    "# # ax_2l.set_yticks([0.5,1,2])\n",
    "# # ax_2l.set_yticklabels(['$\\\\frac{1}{2}$','$1$','$2$'])\n",
    "# # # ax_2l.set_xticks([0,1000,2000])\n",
    "# # # ax_2l.set_xlim(0,2500)\n",
    "# # # ax_2l.legend()\n",
    "\n",
    "# # # 3-lane next\n",
    "# # ax_3l.set_title(\"Three Lane Road\")\n",
    "# # # plot the data\n",
    "# # for i in range(len(r_idxs)):\n",
    "# #     ax_3l.plot(flows[0:max_f_idx[1]],smooth(lane_3[r_idxs[i],:],SMOOTHS[i])[0:max_f_idx[1]],color=colors[i],label=r_labels[i])\n",
    "# #     ax_3l.plot(flows[0:max_f_idx[1]],lane_3[r_idxs[i],0:max_f_idx[1]],color=GRAY,alpha=0.3)\n",
    "# # # insert all the needed labels and axes\n",
    "# # # axs[1].set_ylabel(\"Latency $(minutes)$\")\n",
    "# # ax_3l.set_xlabel(\"Flow $(\\\\frac{cars}{hour})$\",labelpad=0)\n",
    "# # ax_3l.set_yticks([2,3,4])\n",
    "# # ax_3l.set_xticks([0,1500,3000])\n",
    "# # ax_3l.set_xlim(0,3500)\n",
    "# # ax_3l.legend()\n",
    "\n",
    "# # ax_2l.set_xlim(0,2000)\n",
    "# # ax_2l.set_xticks([0,1000,2000])\n",
    "\n",
    "# # # # SAVING CODE #\n",
    "# # # fig.tight_layout()\n",
    "# bbox = mpl.transforms.Bbox([[0,0],[FIG_WIDTH,FIG_HEIGHT]])\n",
    "# plt.savefig('/home/mark/Documents/code/drone/analysis/'+'sumo_latency.pdf',bbox_inches=bbox)"
   ]
  },
  {
   "cell_type": "code",
   "execution_count": 13,
   "metadata": {},
   "outputs": [
    {
     "data": {
      "image/png": "[encoded data removed]",
      "text/plain": [
       "<Figure size 180x180 with 1 Axes>"
      ]
     },
     "metadata": {
      "needs_background": "light"
     },
     "output_type": "display_data"
    }
   ],
   "source": [
    "import matplotlib.ticker as mtick\n",
    "\n",
    "SMOOTHS = [5,10,40]\n",
    "styles = ['dashed','solid']\n",
    "\n",
    "\n",
    "ratios = np.logspace(np.log10(0.001),np.log10(0.1),100)\n",
    "r_idxs = [0,99]\n",
    "# r_idxs=[0]\n",
    "ratio = ratios[r_idxs]\n",
    "\n",
    "\n",
    "fig = plt.figure(figsize=(FIG_WIDTH,FIG_HEIGHT))\n",
    "widths = [1]\n",
    "heights = [1]\n",
    "spec = fig.add_gridspec(ncols=len(widths), nrows=len(heights), width_ratios=widths,\n",
    "                        height_ratios=heights,\n",
    "                        left=0.2,\n",
    "                        bottom=0.16,\n",
    "                        right=0.95,\n",
    "                        top=0.9)\n",
    "\n",
    "spec.update(wspace=0.1, hspace=0.1)\n",
    "axs = fig.add_subplot(spec[0])\n",
    "axs.yaxis.set_major_formatter(mtick.PercentFormatter(100))\n",
    "axs.xaxis.set_major_formatter(mtick.PercentFormatter(100))\n",
    "\n",
    "# set axs\n",
    "# axs.set_title('Effect of Stopping Trucks on Latency')\n",
    "plt.suptitle('Effect of Stopping Trucks on Latency')\n",
    "axs.set_xlabel('Flow in ($\\\\%$ of $f^0$)',labelpad=0)\n",
    "axs.set_xlim([0,100])\n",
    "axs.set_yticks([100,150,200,250,300])\n",
    "axs.set_ylim([90,300])\n",
    "axs.set_ylabel('Latency ($\\\\%$ of $\\ell^0$)',labelpad=1)\n",
    "\n",
    "for key in keys:\n",
    "    # load data\n",
    "    data = pickle.load(open(SAVE_PATHS[key]+'latency.p','rb'))\n",
    "    flows = data['flows']\n",
    "    l = data['l']\n",
    "\n",
    "    for i in range(len(r_idxs)):\n",
    "        x = 100*flows[0:base_caps_idx[key]]/base_caps[key]\n",
    "        y = 100*(l[r_idxs[i],:]/ffl[key])[0:base_caps_idx[key]]\n",
    "        y_smooth = smooth(y, SMOOTHS[-i])\n",
    "\n",
    "        axs.plot(x,y,color=GRAY,alpha=0.3)\n",
    "\n",
    "        if i == 0 and key == '2':\n",
    "            axs.plot(x,y_smooth,color=color_key[key],label='Without trucks',linestyle=styles[i])\n",
    "        elif i==1:\n",
    "            axs.plot(x,y_smooth,color=color_key[key],label=ratio_title[key],linestyle=styles[i])\n",
    "        else:\n",
    "            axs.plot(x,y_smooth,color=color_key[key],linestyle=styles[i])\n",
    "\n",
    "        \n",
    "    axs.legend()\n",
    "# ax_2l.set_ylabel(\"Latency $(minutes)$\",labelpad=0)\n",
    "# ax_2l.set_xlabel(\"Flow $(\\\\frac{cars}{hour})$\",labelpad=0)\n",
    "# ax_2l.set_yticks([0.5,1,2])\n",
    "# ax_2l.set_yticklabels(['$\\\\frac{1}{2}$','$1$','$2$'])\n",
    "# # ax_2l.set_xticzks([0,1000,2000])\n",
    "# # ax_2l.set_xlim(0,2500)\n",
    "# # ax_2l.legend()\n",
    "\n",
    "# # 3-lane next\n",
    "# ax_3l.set_title(\"Three Lane Road\")\n",
    "# # plot the data\n",
    "# for i in range(len(r_idxs)):\n",
    "#     ax_3l.plot(flows[0:max_f_idx[1]],smooth(lane_3[r_idxs[i],:],SMOOTHS[i])[0:max_f_idx[1]],color=colors[i],label=r_labels[i])\n",
    "#     ax_3l.plot(flows[0:max_f_idx[1]],lane_3[r_idxs[i],0:max_f_idx[1]],color=GRAY,alpha=0.3)\n",
    "# # insert all the needed labels and axes\n",
    "# # axs[1].set_ylabel(\"Latency $(minutes)$\")\n",
    "# ax_3l.set_xlabel(\"Flow $(\\\\frac{cars}{hour})$\",labelpad=0)\n",
    "# ax_3l.set_yticks([2,3,4])\n",
    "# ax_3l.set_xticks([0,1500,3000])\n",
    "# ax_3l.set_xlim(0,3500)\n",
    "# ax_3l.legend()\n",
    "\n",
    "# ax_2l.set_xlim(0,2000)\n",
    "# ax_2l.set_xticks([0,1000,2000])\n",
    "\n",
    "# # # SAVING CODE #\n",
    "# # fig.tight_layout()\n",
    "bbox = mpl.transforms.Bbox([[0,0],[FIG_WIDTH,FIG_HEIGHT]])\n",
    "# plt.savefig('/home/mark/Documents/code/drone/analysis/'+'sumo_latency.pdf',bbox_inches=bbox)\n",
    "plt.savefig('/home/mark/Documents/code/drone/sumo/results/figures/'+'sumo_latency' + '.pdf',bbox_inches=bbox)\n",
    "plt.savefig('/home/mark/Documents/code/drone/sumo/results/figures/'+'sumo_latency' + '.png',bbox_inches=bbox)\n",
    "plt.savefig(FINAL_SAVE+'sumo_latency' +'.pdf',bbox_inches=bbox)\n",
    "plt.savefig(FINAL_SAVE+'sumo_latency' +'.png',bbox_inches=bbox)"
   ]
  },
  {
   "cell_type": "code",
   "execution_count": null,
   "metadata": {},
   "outputs": [],
   "source": []
  },
  {
   "cell_type": "code",
   "execution_count": 8,
   "metadata": {},
   "outputs": [
    {
     "data": {
      "text/plain": [
       "2710"
      ]
     },
     "execution_count": 8,
     "metadata": {},
     "output_type": "execute_result"
    }
   ],
   "source": [
    "flows[270]"
   ]
  },
  {
   "cell_type": "code",
   "execution_count": null,
   "metadata": {},
   "outputs": [],
   "source": []
  }
 ],
 "metadata": {
  "interpreter": {
   "hash": "22a8bf5ca61906ffdfb0ce063fe8abd475756db8a9d1138d639ac21be78fbb34"
  },
  "kernelspec": {
   "display_name": "Python 3.9.1 ('drone')",
   "language": "python",
   "name": "python3"
  },
  "language_info": {
   "codemirror_mode": {
    "name": "ipython",
    "version": 3
   },
   "file_extension": ".py",
   "mimetype": "text/x-python",
   "name": "python",
   "nbconvert_exporter": "python",
   "pygments_lexer": "ipython3",
   "version": "3.9.1"
  },
  "orig_nbformat": 4
 },
 "nbformat": 4,
 "nbformat_minor": 2
}
